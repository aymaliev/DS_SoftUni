{
 "cells": [
  {
   "cell_type": "code",
   "execution_count": 2,
   "metadata": {
    "collapsed": true
   },
   "outputs": [],
   "source": [
    "%matplotlib inline"
   ]
  },
  {
   "cell_type": "markdown",
   "metadata": {},
   "source": [
    "# Python Crash Course\n",
    "## Homework Assignment: Play with Jupyter Notebook"
   ]
  },
  {
   "cell_type": "markdown",
   "metadata": {},
   "source": [
    "### Problem 2. Formulas and LaTeX\n",
    "Writing math formulas has always been hard. But scientists don't like difficulties and prefer standards. So, thanks to Donald Knuth (a very popular computer scientist, who also invented a lot of algorithms), we have a nice typesetting system, called LaTeX (pronounced _lah_-tek). We'll be using it mostly for math formulas, but it has a lot of other things to offer.\n",
    "\n",
    "You're on your own now. Research and recreate all formulas shown in the next cell. Try to make your cell look exactly the same as mine. It's an image, so don't try to cheat by copy/pasting :D. \n",
    "\n",
    "Note that you **do not** need to understand the formulas, what's written there or what it means. We'll have fun with these later in the course."
   ]
  },
  {
   "cell_type": "markdown",
   "metadata": {},
   "source": [
    "<img src=\"math.jpg\" style=\"float: left\" />"
   ]
  },
  {
   "cell_type": "markdown",
   "metadata": {},
   "source": [
    "\\begin{gather}\n",
    "y=ax+b \\\\\n",
    " \\\\\n",
    "x_{1,2} = \\frac{-b \\pm \\sqrt{b^2 - 4ac}}{2a} \\\\\n",
    " \\\\\n",
    "f(x)\\mid_{x=a} = f(a) + f'(a)(x-a) + \\frac{f''(a)}{2!}(x-a)^2 + \\ldots + \\frac{f^{(n)}(a)}{n!}(x-a)^n + \\ldots \\\\\n",
    "\\quad \\\\\n",
    "\\int_{-\\infty}^{+\\infty}e^{-x^2}\\,\\mathrm{d}x=\\sqrt{\\pi}\\\\\n",
    " \\\\\n",
    "\\begin{pmatrix}\n",
    "2&1&3\\\\\n",
    "2&6&8\\\\\n",
    "6&8&18\n",
    "\\end{pmatrix}\\\\\\\n",
    " \\\\\n",
    "A = \n",
    " \\begin{pmatrix}\n",
    "  a_{11} & a_{12} & \\cdots & a_{1n} \\\\\n",
    "  a_{21} & a_{22} & \\cdots & a_{2n} \\\\\n",
    "  \\vdots  & \\vdots  & \\ddots & \\vdots  \\\\\n",
    "  a_{m1} & a_{m2} & \\cdots & a_{mn} \\\\\n",
    " \\end{pmatrix}\n",
    "\\end{gather}"
   ]
  },
  {
   "cell_type": "markdown",
   "metadata": {},
   "source": [
    "### Problem 3. Plotting with Python\n",
    "We saw a little bit of plotting but let's take it to the next level.\n",
    "In the lecture we explored the graph of the function $ y = \\sin(x) $. Let's have a look at a more generalized version of that function: $ y = a\\sin(bx) $. We'll find out what the parameters $ a $ and $ b $ do.\n",
    "\n",
    "Once again, you're on your own. I'll just give some suggestions.\n",
    "\n",
    "1. First, let's create an array for the function **domain** (that is, the x values). We can do that using _numpy_\n",
    "2. We want to see how the parameters act independently. To do that, we'll fix one and vary the other. Let's fix $ b = 1 $ and see the effect of $ a $. To do that, let's choose three values: $ a = \\frac{1}{2}, 1, 2 $\n",
    "3. We need to plot the three functions on the same coordinate system. We'll also need to make some other adjustments to make the plot look better\n",
    "4. Now let's create another plot with $ a = 1 $ and $ b = \\frac{1}{2}, 1, 2 $. Apply the same styling\n",
    "5. Hint: Show the two **subplots** from the previous step in the same **figure**, one right after the other.\n",
    "6. Hint 2: Make sure the plots are **easily comparable**. If you don't do this, the plots may mislead you (which is something you've got to be careful about when performing any data analysis). In my case, I did this by using the same dimensions for the axes\n",
    "6. I know I'll ruin some of the fun for you, but I added my plots to give you an idea of what you might want to achieve. You're free to make your plots look however you want. Documentation is your friend :).\n",
    "7. Write your conclusions\n",
    "\n",
    "**Instructions:** In the next cell, type in the code which will create the figure. The output should be in a single image. You don't need to save it, just display it. If you have trouble displaying, remember to run the first cell in the notebook.\n",
    "In the cell after that, write your conclusion about $ a $ and $ b $.\n",
    "\n",
    "You can find my plots in the file \"sine-parameters.jpg\". I didn't include it here so you can have the chance of exploring the functions yourself, without being distracted :)."
   ]
  },
  {
   "cell_type": "code",
   "execution_count": 42,
   "metadata": {
    "collapsed": true
   },
   "outputs": [],
   "source": [
    " # Write your code here"
   ]
  },
  {
   "cell_type": "markdown",
   "metadata": {},
   "source": [
    "Write your conclusions here"
   ]
  }
 ],
 "metadata": {
  "anaconda-cloud": {},
  "kernelspec": {
   "display_name": "Python 3",
   "language": "python",
   "name": "python3"
  },
  "language_info": {
   "codemirror_mode": {
    "name": "ipython",
    "version": 3
   },
   "file_extension": ".py",
   "mimetype": "text/x-python",
   "name": "python",
   "nbconvert_exporter": "python",
   "pygments_lexer": "ipython3",
   "version": "3.5.2"
  }
 },
 "nbformat": 4,
 "nbformat_minor": 1
}
